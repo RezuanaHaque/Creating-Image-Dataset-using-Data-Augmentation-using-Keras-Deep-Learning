{
  "nbformat": 4,
  "nbformat_minor": 0,
  "metadata": {
    "colab": {
      "name": "Creating-Image-Dataset-using-Data-Augmentation-using-Keras-Deep-Learning.ipynb",
      "provenance": [],
      "mount_file_id": "1Q6bKVqiUH0CPLI-pSikxrV5bTNQluoXl",
      "authorship_tag": "ABX9TyPvoTbkIh/wGabE0yz/yvEn",
      "include_colab_link": true
    },
    "kernelspec": {
      "name": "python3",
      "display_name": "Python 3"
    },
    "language_info": {
      "name": "python"
    }
  },
  "cells": [
    {
      "cell_type": "markdown",
      "metadata": {
        "id": "view-in-github",
        "colab_type": "text"
      },
      "source": [
        "<a href=\"https://colab.research.google.com/github/RezuanaHaque/Creating-Image-Dataset-using-Data-Augmentation-using-Keras-Deep-Learning/blob/main/Creating_Image_Dataset_using_Data_Augmentation_using_Keras_Deep_Learning.ipynb\" target=\"_parent\"><img src=\"https://colab.research.google.com/assets/colab-badge.svg\" alt=\"Open In Colab\"/></a>"
      ]
    },
    {
      "cell_type": "code",
      "execution_count": 2,
      "metadata": {
        "id": "e6TEOGLvPtdR"
      },
      "outputs": [],
      "source": [
        "from keras.preprocessing.image import  ImageDataGenerator, array_to_img, img_to_array, load_img"
      ]
    },
    {
      "cell_type": "code",
      "source": [
        "datagen = ImageDataGenerator(\n",
        "          rotation_range=40,\n",
        "           width_shift_range=0.2,\n",
        "            height_shift_range=0.2,\n",
        "             brightness_range=None,\n",
        "              shear_range=0.2,\n",
        "               zoom_range=0.2,\n",
        "                 fill_mode='nearest',\n",
        "                   horizontal_flip=True,\n",
        "                    vertical_flip=True,\n",
        "                     )"
      ],
      "metadata": {
        "id": "Emp6qmL3eQbn"
      },
      "execution_count": 3,
      "outputs": []
    },
    {
      "cell_type": "code",
      "source": [
        "img = load_img('/content/9.jpg')\n",
        "x = img_to_array(img) #this is a numpy array with (3,150,150)\n",
        "x = x.reshape((1,) + x.shape) #this is a numpy array with (1, 3, 150, 150), here 3 for 3channels  and the img is 150*150"
      ],
      "metadata": {
        "id": "BevywMYR42Dg"
      },
      "execution_count": 4,
      "outputs": []
    },
    {
      "cell_type": "code",
      "source": [
        "# the .flow generates randomly transformed images and saves the result in the cats directory"
      ],
      "metadata": {
        "id": "_bSlJ7Ic5Y0N"
      },
      "execution_count": 5,
      "outputs": []
    },
    {
      "cell_type": "code",
      "source": [
        "i=0\n",
        "for batch in datagen.flow(x, batch_size=2, save_to_dir='/content/cats', save_prefix='cats', save_format='jpeg'):\n",
        "  i+=1\n",
        "  if i>20:\n",
        "    break"
      ],
      "metadata": {
        "id": "7coc5ki37RS-"
      },
      "execution_count": 9,
      "outputs": []
    }
  ]
}